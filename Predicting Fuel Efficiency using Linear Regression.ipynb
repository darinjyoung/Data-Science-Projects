{
 "cells": [
  {
   "cell_type": "markdown",
   "id": "41ee1d9b-5413-4dec-91ee-66ad8036be47",
   "metadata": {},
   "source": [
    "# Week 4 Assignment"
   ]
  },
  {
   "cell_type": "markdown",
   "id": "4450974b-e6b4-4a31-b147-8028a48bb884",
   "metadata": {},
   "source": [
    "## Darin Young"
   ]
  },
  {
   "cell_type": "markdown",
   "id": "365dd375-ed81-47b4-af80-16785787acb3",
   "metadata": {},
   "source": [
    "### Predicting Fuel Efficiency using Linear Regression"
   ]
  },
  {
   "cell_type": "markdown",
   "id": "be21e47f-2959-439f-88a3-f3f230575ad9",
   "metadata": {},
   "source": [
    "### 1. Load the data as a Pandas data frame and ensure that it imported correctly."
   ]
  },
  {
   "cell_type": "code",
   "execution_count": 5,
   "id": "98aecea3-7f0f-46e4-9d1d-e20715bea8d6",
   "metadata": {},
   "outputs": [
    {
     "data": {
      "text/html": [
       "<div>\n",
       "<style scoped>\n",
       "    .dataframe tbody tr th:only-of-type {\n",
       "        vertical-align: middle;\n",
       "    }\n",
       "\n",
       "    .dataframe tbody tr th {\n",
       "        vertical-align: top;\n",
       "    }\n",
       "\n",
       "    .dataframe thead th {\n",
       "        text-align: right;\n",
       "    }\n",
       "</style>\n",
       "<table border=\"1\" class=\"dataframe\">\n",
       "  <thead>\n",
       "    <tr style=\"text-align: right;\">\n",
       "      <th></th>\n",
       "      <th>mpg</th>\n",
       "      <th>cylinders</th>\n",
       "      <th>displacement</th>\n",
       "      <th>horsepower</th>\n",
       "      <th>weight</th>\n",
       "      <th>acceleration</th>\n",
       "      <th>model year</th>\n",
       "      <th>origin</th>\n",
       "      <th>car name</th>\n",
       "    </tr>\n",
       "  </thead>\n",
       "  <tbody>\n",
       "    <tr>\n",
       "      <th>0</th>\n",
       "      <td>18.0</td>\n",
       "      <td>8</td>\n",
       "      <td>307.0</td>\n",
       "      <td>130</td>\n",
       "      <td>3504</td>\n",
       "      <td>12.0</td>\n",
       "      <td>70</td>\n",
       "      <td>1</td>\n",
       "      <td>chevrolet chevelle malibu</td>\n",
       "    </tr>\n",
       "    <tr>\n",
       "      <th>1</th>\n",
       "      <td>15.0</td>\n",
       "      <td>8</td>\n",
       "      <td>350.0</td>\n",
       "      <td>165</td>\n",
       "      <td>3693</td>\n",
       "      <td>11.5</td>\n",
       "      <td>70</td>\n",
       "      <td>1</td>\n",
       "      <td>buick skylark 320</td>\n",
       "    </tr>\n",
       "    <tr>\n",
       "      <th>2</th>\n",
       "      <td>18.0</td>\n",
       "      <td>8</td>\n",
       "      <td>318.0</td>\n",
       "      <td>150</td>\n",
       "      <td>3436</td>\n",
       "      <td>11.0</td>\n",
       "      <td>70</td>\n",
       "      <td>1</td>\n",
       "      <td>plymouth satellite</td>\n",
       "    </tr>\n",
       "    <tr>\n",
       "      <th>3</th>\n",
       "      <td>16.0</td>\n",
       "      <td>8</td>\n",
       "      <td>304.0</td>\n",
       "      <td>150</td>\n",
       "      <td>3433</td>\n",
       "      <td>12.0</td>\n",
       "      <td>70</td>\n",
       "      <td>1</td>\n",
       "      <td>amc rebel sst</td>\n",
       "    </tr>\n",
       "    <tr>\n",
       "      <th>4</th>\n",
       "      <td>17.0</td>\n",
       "      <td>8</td>\n",
       "      <td>302.0</td>\n",
       "      <td>140</td>\n",
       "      <td>3449</td>\n",
       "      <td>10.5</td>\n",
       "      <td>70</td>\n",
       "      <td>1</td>\n",
       "      <td>ford torino</td>\n",
       "    </tr>\n",
       "  </tbody>\n",
       "</table>\n",
       "</div>"
      ],
      "text/plain": [
       "    mpg  cylinders  displacement horsepower  weight  acceleration  model year  \\\n",
       "0  18.0          8         307.0        130    3504          12.0          70   \n",
       "1  15.0          8         350.0        165    3693          11.5          70   \n",
       "2  18.0          8         318.0        150    3436          11.0          70   \n",
       "3  16.0          8         304.0        150    3433          12.0          70   \n",
       "4  17.0          8         302.0        140    3449          10.5          70   \n",
       "\n",
       "   origin                   car name  \n",
       "0       1  chevrolet chevelle malibu  \n",
       "1       1          buick skylark 320  \n",
       "2       1         plymouth satellite  \n",
       "3       1              amc rebel sst  \n",
       "4       1                ford torino  "
      ]
     },
     "execution_count": 5,
     "metadata": {},
     "output_type": "execute_result"
    }
   ],
   "source": [
    "import pandas as pd\n",
    "import seaborn as sns\n",
    "import matplotlib.pyplot as plt\n",
    "\n",
    "df = pd.read_csv(\"auto-mpg.csv\") # reads dataset into pandas dataframe\n",
    "df.head()"
   ]
  },
  {
   "cell_type": "markdown",
   "id": "5c32c419-6f3b-4ed5-992c-f05f088bc7d9",
   "metadata": {},
   "source": [
    "### 2. Begin by prepping the data for modeling:"
   ]
  },
  {
   "cell_type": "markdown",
   "id": "7545b45b-3a78-4cac-90f4-b8f2df17dc6a",
   "metadata": {},
   "source": [
    "#### Remove the car name column."
   ]
  },
  {
   "cell_type": "code",
   "execution_count": 8,
   "id": "df83551b-ff22-4a29-b994-9d0230fdcee6",
   "metadata": {},
   "outputs": [
    {
     "data": {
      "text/html": [
       "<div>\n",
       "<style scoped>\n",
       "    .dataframe tbody tr th:only-of-type {\n",
       "        vertical-align: middle;\n",
       "    }\n",
       "\n",
       "    .dataframe tbody tr th {\n",
       "        vertical-align: top;\n",
       "    }\n",
       "\n",
       "    .dataframe thead th {\n",
       "        text-align: right;\n",
       "    }\n",
       "</style>\n",
       "<table border=\"1\" class=\"dataframe\">\n",
       "  <thead>\n",
       "    <tr style=\"text-align: right;\">\n",
       "      <th></th>\n",
       "      <th>mpg</th>\n",
       "      <th>cylinders</th>\n",
       "      <th>displacement</th>\n",
       "      <th>horsepower</th>\n",
       "      <th>weight</th>\n",
       "      <th>acceleration</th>\n",
       "      <th>model year</th>\n",
       "      <th>origin</th>\n",
       "    </tr>\n",
       "  </thead>\n",
       "  <tbody>\n",
       "    <tr>\n",
       "      <th>0</th>\n",
       "      <td>18.0</td>\n",
       "      <td>8</td>\n",
       "      <td>307.0</td>\n",
       "      <td>130</td>\n",
       "      <td>3504</td>\n",
       "      <td>12.0</td>\n",
       "      <td>70</td>\n",
       "      <td>1</td>\n",
       "    </tr>\n",
       "    <tr>\n",
       "      <th>1</th>\n",
       "      <td>15.0</td>\n",
       "      <td>8</td>\n",
       "      <td>350.0</td>\n",
       "      <td>165</td>\n",
       "      <td>3693</td>\n",
       "      <td>11.5</td>\n",
       "      <td>70</td>\n",
       "      <td>1</td>\n",
       "    </tr>\n",
       "    <tr>\n",
       "      <th>2</th>\n",
       "      <td>18.0</td>\n",
       "      <td>8</td>\n",
       "      <td>318.0</td>\n",
       "      <td>150</td>\n",
       "      <td>3436</td>\n",
       "      <td>11.0</td>\n",
       "      <td>70</td>\n",
       "      <td>1</td>\n",
       "    </tr>\n",
       "    <tr>\n",
       "      <th>3</th>\n",
       "      <td>16.0</td>\n",
       "      <td>8</td>\n",
       "      <td>304.0</td>\n",
       "      <td>150</td>\n",
       "      <td>3433</td>\n",
       "      <td>12.0</td>\n",
       "      <td>70</td>\n",
       "      <td>1</td>\n",
       "    </tr>\n",
       "    <tr>\n",
       "      <th>4</th>\n",
       "      <td>17.0</td>\n",
       "      <td>8</td>\n",
       "      <td>302.0</td>\n",
       "      <td>140</td>\n",
       "      <td>3449</td>\n",
       "      <td>10.5</td>\n",
       "      <td>70</td>\n",
       "      <td>1</td>\n",
       "    </tr>\n",
       "  </tbody>\n",
       "</table>\n",
       "</div>"
      ],
      "text/plain": [
       "    mpg  cylinders  displacement horsepower  weight  acceleration  model year  \\\n",
       "0  18.0          8         307.0        130    3504          12.0          70   \n",
       "1  15.0          8         350.0        165    3693          11.5          70   \n",
       "2  18.0          8         318.0        150    3436          11.0          70   \n",
       "3  16.0          8         304.0        150    3433          12.0          70   \n",
       "4  17.0          8         302.0        140    3449          10.5          70   \n",
       "\n",
       "   origin  \n",
       "0       1  \n",
       "1       1  \n",
       "2       1  \n",
       "3       1  \n",
       "4       1  "
      ]
     },
     "execution_count": 8,
     "metadata": {},
     "output_type": "execute_result"
    }
   ],
   "source": [
    "df = df.drop('car name', axis = 1)\n",
    "df.head()"
   ]
  },
  {
   "cell_type": "markdown",
   "id": "f72e1a1d-5742-48eb-8043-091e1ec74814",
   "metadata": {},
   "source": [
    "#### The horsepower column values likely imported as a string data type. Figure out why and replace any strings with the column mean."
   ]
  },
  {
   "cell_type": "markdown",
   "id": "e79e3f57-fff3-45ed-a8bf-37fa2d544a89",
   "metadata": {},
   "source": [
    "To identify the reason that the horsepower column has been imported as string, I'll first take a look at all the unique values in the column to see if anything looks odd. "
   ]
  },
  {
   "cell_type": "code",
   "execution_count": 11,
   "id": "50b45ecc-ad6b-4d82-a838-4aa349b56595",
   "metadata": {},
   "outputs": [
    {
     "data": {
      "text/plain": [
       "array(['130', '165', '150', '140', '198', '220', '215', '225', '190',\n",
       "       '170', '160', '95', '97', '85', '88', '46', '87', '90', '113',\n",
       "       '200', '210', '193', '?', '100', '105', '175', '153', '180', '110',\n",
       "       '72', '86', '70', '76', '65', '69', '60', '80', '54', '208', '155',\n",
       "       '112', '92', '145', '137', '158', '167', '94', '107', '230', '49',\n",
       "       '75', '91', '122', '67', '83', '78', '52', '61', '93', '148',\n",
       "       '129', '96', '71', '98', '115', '53', '81', '79', '120', '152',\n",
       "       '102', '108', '68', '58', '149', '89', '63', '48', '66', '139',\n",
       "       '103', '125', '133', '138', '135', '142', '77', '62', '132', '84',\n",
       "       '64', '74', '116', '82'], dtype=object)"
      ]
     },
     "execution_count": 11,
     "metadata": {},
     "output_type": "execute_result"
    }
   ],
   "source": [
    "df['horsepower'].unique()"
   ]
  },
  {
   "cell_type": "markdown",
   "id": "babfa792-b12c-47d5-b0b7-40b8798d5609",
   "metadata": {},
   "source": [
    "This method worked well, because I was able to identify that there are rows in the horsepower column that contain a \"?\" value. So, I need to temporarily filter out those columns to calculate the mean value of the numeric values in the column. "
   ]
  },
  {
   "cell_type": "code",
   "execution_count": 13,
   "id": "d695b64c-c849-43b4-b76d-7de0bb6f4803",
   "metadata": {},
   "outputs": [
    {
     "data": {
      "text/plain": [
       "array(['130', '165', '150', '140', '198', '220', '215', '225', '190',\n",
       "       '170', '160', '95', '97', '85', '88', '46', '87', '90', '113',\n",
       "       '200', '210', '193', '100', '105', '175', '153', '180', '110',\n",
       "       '72', '86', '70', '76', '65', '69', '60', '80', '54', '208', '155',\n",
       "       '112', '92', '145', '137', '158', '167', '94', '107', '230', '49',\n",
       "       '75', '91', '122', '67', '83', '78', '52', '61', '93', '148',\n",
       "       '129', '96', '71', '98', '115', '53', '81', '79', '120', '152',\n",
       "       '102', '108', '68', '58', '149', '89', '63', '48', '66', '139',\n",
       "       '103', '125', '133', '138', '135', '142', '77', '62', '132', '84',\n",
       "       '64', '74', '116', '82'], dtype=object)"
      ]
     },
     "execution_count": 13,
     "metadata": {},
     "output_type": "execute_result"
    }
   ],
   "source": [
    "df_filtered = df[df['horsepower'] != \"?\"]\n",
    "df_filtered['horsepower'].unique()"
   ]
  },
  {
   "cell_type": "markdown",
   "id": "9bd6ef37-5eff-40d2-995c-410d631b9c0c",
   "metadata": {},
   "source": [
    "After removing the \"?\" rows, it seems all other values are numeric. However, the dtype is still showing \"object\" and not as int, so I'll go ahead and convert the column to numeric using pandas. "
   ]
  },
  {
   "cell_type": "code",
   "execution_count": 15,
   "id": "97b30cde-dd38-4f73-a8ec-df5af1e2ba33",
   "metadata": {},
   "outputs": [
    {
     "name": "stderr",
     "output_type": "stream",
     "text": [
      "C:\\Users\\DarinPC\\AppData\\Local\\Temp\\ipykernel_3744\\3314068635.py:1: SettingWithCopyWarning: \n",
      "A value is trying to be set on a copy of a slice from a DataFrame.\n",
      "Try using .loc[row_indexer,col_indexer] = value instead\n",
      "\n",
      "See the caveats in the documentation: https://pandas.pydata.org/pandas-docs/stable/user_guide/indexing.html#returning-a-view-versus-a-copy\n",
      "  df_filtered['horsepower'] = pd.to_numeric(df_filtered['horsepower'])\n"
     ]
    }
   ],
   "source": [
    "df_filtered['horsepower'] = pd.to_numeric(df_filtered['horsepower'])"
   ]
  },
  {
   "cell_type": "code",
   "execution_count": 16,
   "id": "483a9b9b-8e28-4fc2-aaea-0efa64b1e594",
   "metadata": {},
   "outputs": [
    {
     "data": {
      "text/plain": [
       "array([130, 165, 150, 140, 198, 220, 215, 225, 190, 170, 160,  95,  97,\n",
       "        85,  88,  46,  87,  90, 113, 200, 210, 193, 100, 105, 175, 153,\n",
       "       180, 110,  72,  86,  70,  76,  65,  69,  60,  80,  54, 208, 155,\n",
       "       112,  92, 145, 137, 158, 167,  94, 107, 230,  49,  75,  91, 122,\n",
       "        67,  83,  78,  52,  61,  93, 148, 129,  96,  71,  98, 115,  53,\n",
       "        81,  79, 120, 152, 102, 108,  68,  58, 149,  89,  63,  48,  66,\n",
       "       139, 103, 125, 133, 138, 135, 142,  77,  62, 132,  84,  64,  74,\n",
       "       116,  82], dtype=int64)"
      ]
     },
     "execution_count": 16,
     "metadata": {},
     "output_type": "execute_result"
    }
   ],
   "source": [
    "df_filtered['horsepower'].unique()"
   ]
  },
  {
   "cell_type": "markdown",
   "id": "1fcfe0df-caa4-475e-a413-3ed949a07aa0",
   "metadata": {},
   "source": [
    "Now that the column contains only numeric values, I can go ahead and calculate the mean value. "
   ]
  },
  {
   "cell_type": "code",
   "execution_count": 18,
   "id": "7d88e795-9ab3-4c95-a390-e7bd6dc27bac",
   "metadata": {},
   "outputs": [
    {
     "name": "stdout",
     "output_type": "stream",
     "text": [
      "The mean value for the horsepower column is: 104.47\n"
     ]
    }
   ],
   "source": [
    "mean_hp = df_filtered['horsepower'].mean()\n",
    "print(f'The mean value for the horsepower column is: {mean_hp:.2f}')"
   ]
  },
  {
   "cell_type": "markdown",
   "id": "3a846b5c-d57e-421e-bc44-399d580b772e",
   "metadata": {},
   "source": [
    "To make things a little cleaner, I'd like to round the mean value to an even number so it matches the formatting of the other values in the column. "
   ]
  },
  {
   "cell_type": "code",
   "execution_count": 20,
   "id": "899c3a3e-ec78-4022-baae-cb6216031f2d",
   "metadata": {},
   "outputs": [
    {
     "data": {
      "text/plain": [
       "104"
      ]
     },
     "execution_count": 20,
     "metadata": {},
     "output_type": "execute_result"
    }
   ],
   "source": [
    "mean_hp_rounded = mean_hp.astype(int)\n",
    "mean_hp_rounded"
   ]
  },
  {
   "cell_type": "markdown",
   "id": "e57935a9-96c3-4029-bb13-1829caae7694",
   "metadata": {},
   "source": [
    "Now that we have the mean value, we can replace the \"?\" rows with the mean value and progress with the remaining steps."
   ]
  },
  {
   "cell_type": "code",
   "execution_count": 22,
   "id": "f3f6a05c-a09c-459f-993b-d73865c69776",
   "metadata": {},
   "outputs": [
    {
     "data": {
      "text/plain": [
       "array([130, 165, 150, 140, 198, 220, 215, 225, 190, 170, 160,  95,  97,\n",
       "        85,  88,  46,  87,  90, 113, 200, 210, 193, 104, 100, 105, 175,\n",
       "       153, 180, 110,  72,  86,  70,  76,  65,  69,  60,  80,  54, 208,\n",
       "       155, 112,  92, 145, 137, 158, 167,  94, 107, 230,  49,  75,  91,\n",
       "       122,  67,  83,  78,  52,  61,  93, 148, 129,  96,  71,  98, 115,\n",
       "        53,  81,  79, 120, 152, 102, 108,  68,  58, 149,  89,  63,  48,\n",
       "        66, 139, 103, 125, 133, 138, 135, 142,  77,  62, 132,  84,  64,\n",
       "        74, 116,  82], dtype=int64)"
      ]
     },
     "execution_count": 22,
     "metadata": {},
     "output_type": "execute_result"
    }
   ],
   "source": [
    "df['horsepower'] = df['horsepower'].replace(\"?\", mean_hp_rounded)\n",
    "df['horsepower'] = pd.to_numeric(df['horsepower'])\n",
    "df['horsepower'].unique()"
   ]
  },
  {
   "cell_type": "markdown",
   "id": "d0ca0280-77d2-426e-832c-93e319c09b13",
   "metadata": {},
   "source": [
    "#### Create dummy variables for the origin column."
   ]
  },
  {
   "cell_type": "code",
   "execution_count": 24,
   "id": "2f2f2a9a-fce7-4ad7-8e58-191f31a7e780",
   "metadata": {},
   "outputs": [
    {
     "data": {
      "text/plain": [
       "array([1, 3, 2], dtype=int64)"
      ]
     },
     "execution_count": 24,
     "metadata": {},
     "output_type": "execute_result"
    }
   ],
   "source": [
    "df['origin'].unique()"
   ]
  },
  {
   "cell_type": "markdown",
   "id": "2683c37e-f200-4511-8962-902cbd47f096",
   "metadata": {},
   "source": [
    "The origin column has three values: 1, 2, and 3. I'll use pandas get_dummies function to convert these values into three separate columns containing either 1/0. "
   ]
  },
  {
   "cell_type": "code",
   "execution_count": 26,
   "id": "d9d0595b-2f52-496e-a5c8-f0929c36bbc3",
   "metadata": {},
   "outputs": [
    {
     "data": {
      "text/html": [
       "<div>\n",
       "<style scoped>\n",
       "    .dataframe tbody tr th:only-of-type {\n",
       "        vertical-align: middle;\n",
       "    }\n",
       "\n",
       "    .dataframe tbody tr th {\n",
       "        vertical-align: top;\n",
       "    }\n",
       "\n",
       "    .dataframe thead th {\n",
       "        text-align: right;\n",
       "    }\n",
       "</style>\n",
       "<table border=\"1\" class=\"dataframe\">\n",
       "  <thead>\n",
       "    <tr style=\"text-align: right;\">\n",
       "      <th></th>\n",
       "      <th>mpg</th>\n",
       "      <th>cylinders</th>\n",
       "      <th>displacement</th>\n",
       "      <th>horsepower</th>\n",
       "      <th>weight</th>\n",
       "      <th>acceleration</th>\n",
       "      <th>model year</th>\n",
       "      <th>origin</th>\n",
       "      <th>origin_1</th>\n",
       "      <th>origin_2</th>\n",
       "      <th>origin_3</th>\n",
       "    </tr>\n",
       "  </thead>\n",
       "  <tbody>\n",
       "    <tr>\n",
       "      <th>0</th>\n",
       "      <td>18.0</td>\n",
       "      <td>8</td>\n",
       "      <td>307.0</td>\n",
       "      <td>130</td>\n",
       "      <td>3504</td>\n",
       "      <td>12.0</td>\n",
       "      <td>70</td>\n",
       "      <td>1</td>\n",
       "      <td>1</td>\n",
       "      <td>0</td>\n",
       "      <td>0</td>\n",
       "    </tr>\n",
       "    <tr>\n",
       "      <th>1</th>\n",
       "      <td>15.0</td>\n",
       "      <td>8</td>\n",
       "      <td>350.0</td>\n",
       "      <td>165</td>\n",
       "      <td>3693</td>\n",
       "      <td>11.5</td>\n",
       "      <td>70</td>\n",
       "      <td>1</td>\n",
       "      <td>1</td>\n",
       "      <td>0</td>\n",
       "      <td>0</td>\n",
       "    </tr>\n",
       "    <tr>\n",
       "      <th>2</th>\n",
       "      <td>18.0</td>\n",
       "      <td>8</td>\n",
       "      <td>318.0</td>\n",
       "      <td>150</td>\n",
       "      <td>3436</td>\n",
       "      <td>11.0</td>\n",
       "      <td>70</td>\n",
       "      <td>1</td>\n",
       "      <td>1</td>\n",
       "      <td>0</td>\n",
       "      <td>0</td>\n",
       "    </tr>\n",
       "    <tr>\n",
       "      <th>3</th>\n",
       "      <td>16.0</td>\n",
       "      <td>8</td>\n",
       "      <td>304.0</td>\n",
       "      <td>150</td>\n",
       "      <td>3433</td>\n",
       "      <td>12.0</td>\n",
       "      <td>70</td>\n",
       "      <td>1</td>\n",
       "      <td>1</td>\n",
       "      <td>0</td>\n",
       "      <td>0</td>\n",
       "    </tr>\n",
       "    <tr>\n",
       "      <th>4</th>\n",
       "      <td>17.0</td>\n",
       "      <td>8</td>\n",
       "      <td>302.0</td>\n",
       "      <td>140</td>\n",
       "      <td>3449</td>\n",
       "      <td>10.5</td>\n",
       "      <td>70</td>\n",
       "      <td>1</td>\n",
       "      <td>1</td>\n",
       "      <td>0</td>\n",
       "      <td>0</td>\n",
       "    </tr>\n",
       "  </tbody>\n",
       "</table>\n",
       "</div>"
      ],
      "text/plain": [
       "    mpg  cylinders  displacement  horsepower  weight  acceleration  \\\n",
       "0  18.0          8         307.0         130    3504          12.0   \n",
       "1  15.0          8         350.0         165    3693          11.5   \n",
       "2  18.0          8         318.0         150    3436          11.0   \n",
       "3  16.0          8         304.0         150    3433          12.0   \n",
       "4  17.0          8         302.0         140    3449          10.5   \n",
       "\n",
       "   model year  origin  origin_1  origin_2  origin_3  \n",
       "0          70       1         1         0         0  \n",
       "1          70       1         1         0         0  \n",
       "2          70       1         1         0         0  \n",
       "3          70       1         1         0         0  \n",
       "4          70       1         1         0         0  "
      ]
     },
     "execution_count": 26,
     "metadata": {},
     "output_type": "execute_result"
    }
   ],
   "source": [
    "dummies = pd.get_dummies(df['origin'], prefix='origin')\n",
    "dummies = dummies.astype(int) # convert values to integer so they show as 1/0 rather than true/false\n",
    "df = pd.concat([df, dummies], axis=1) # combine columns with original dataframe\n",
    "\n",
    "df.head()"
   ]
  },
  {
   "cell_type": "markdown",
   "id": "1d02cac3-8ddc-4974-9ce5-c4a563308e16",
   "metadata": {},
   "source": [
    "### 3. Create a correlation coefficient matrix and/or visualization. Are there features highly correlated with mpg?"
   ]
  },
  {
   "cell_type": "code",
   "execution_count": 28,
   "id": "255ed93b-85c3-45b7-bb47-cf2bdf7d8f52",
   "metadata": {},
   "outputs": [
    {
     "name": "stdout",
     "output_type": "stream",
     "text": [
      "                   mpg  cylinders  displacement  horsepower    weight  \\\n",
      "mpg           1.000000  -0.775396     -0.804203   -0.771543 -0.831741   \n",
      "cylinders    -0.775396   1.000000      0.950721    0.839061  0.896017   \n",
      "displacement -0.804203   0.950721      1.000000    0.893760  0.932824   \n",
      "horsepower   -0.771543   0.839061      0.893760    1.000000  0.860676   \n",
      "weight       -0.831741   0.896017      0.932824    0.860676  1.000000   \n",
      "acceleration  0.420289  -0.505419     -0.543684   -0.684376 -0.417457   \n",
      "model year    0.579267  -0.348746     -0.370164   -0.411750 -0.306564   \n",
      "origin        0.563450  -0.562543     -0.609409   -0.453613 -0.581024   \n",
      "origin_1     -0.568192   0.604351      0.651407    0.486067  0.598398   \n",
      "origin_2      0.259022  -0.352861     -0.373886   -0.281334 -0.298843   \n",
      "origin_3      0.442174  -0.396479     -0.433505   -0.321232 -0.440817   \n",
      "\n",
      "              acceleration  model year    origin  origin_1  origin_2  origin_3  \n",
      "mpg               0.420289    0.579267  0.563450 -0.568192  0.259022  0.442174  \n",
      "cylinders        -0.505419   -0.348746 -0.562543  0.604351 -0.352861 -0.396479  \n",
      "displacement     -0.543684   -0.370164 -0.609409  0.651407 -0.373886 -0.433505  \n",
      "horsepower       -0.684376   -0.411750 -0.453613  0.486067 -0.281334 -0.321232  \n",
      "weight           -0.417457   -0.306564 -0.581024  0.598398 -0.298843 -0.440817  \n",
      "acceleration      1.000000    0.288137  0.205873 -0.250806  0.204473  0.109144  \n",
      "model year        0.288137    1.000000  0.180662 -0.139883 -0.024489  0.193101  \n",
      "origin            0.205873    0.180662  1.000000 -0.924486  0.246332  0.886596  \n",
      "origin_1         -0.250806   -0.139883 -0.924486  1.000000 -0.597198 -0.643317  \n",
      "origin_2          0.204473   -0.024489  0.246332 -0.597198  1.000000 -0.229895  \n",
      "origin_3          0.109144    0.193101  0.886596 -0.643317 -0.229895  1.000000  \n"
     ]
    },
    {
     "data": {
      "image/png": "[encoded data removed]",
      "text/plain": [
       "<Figure size 800x600 with 2 Axes>"
      ]
     },
     "metadata": {},
     "output_type": "display_data"
    }
   ],
   "source": [
    "correlation_matrix = df.corr()\n",
    "print(correlation_matrix)\n",
    "\n",
    "plt.figure(figsize=(8, 6))\n",
    "sns.heatmap(correlation_matrix, annot=True, cmap='coolwarm', fmt='.2f')\n",
    "plt.title(\"Correlation Matrix Heatmap\")\n",
    "plt.show()"
   ]
  },
  {
   "cell_type": "markdown",
   "id": "381e44b3-b3bf-475b-a26b-4f0fa559135b",
   "metadata": {},
   "source": [
    "Judging by the correlation map, it seems that there are multiple features that are highly correlated with mpg. Cylinders, displacement, horsepower and weight all have a negative correlation of .75 or higher, which implies that lower values of each of those features results in higher values of mpg. Origin 1 also has a moderate negative correlation of -0.57. Finally, model year has a moderate positive correlation of 0.58, which makes sense because as model year increases (newer cars), mpg also increases. "
   ]
  },
  {
   "cell_type": "markdown",
   "id": "879c3493-b201-4ab3-8e85-38616921a658",
   "metadata": {},
   "source": [
    "### 4. Plot mpg versus weight. Analyze this graph and explain how it relates to the corresponding correlation coefficient."
   ]
  },
  {
   "cell_type": "code",
   "execution_count": 31,
   "id": "86d1109c-5cf7-4fc3-9080-6c44f1dacb5f",
   "metadata": {},
   "outputs": [
    {
     "data": {
      "image/png": "[encoded data removed]",
      "text/plain": [
       "<Figure size 1200x600 with 1 Axes>"
      ]
     },
     "metadata": {},
     "output_type": "display_data"
    }
   ],
   "source": [
    "plt.figure(figsize=(12, 6))\n",
    "plt.scatter(df['weight'], df['mpg'], color='blue', alpha=0.5)\n",
    "\n",
    "plt.title('Scatter Plot of Weight vs MPG')\n",
    "plt.xlabel('Weight')\n",
    "plt.ylabel('MPG')\n",
    "plt.grid()\n",
    "plt.show()"
   ]
  },
  {
   "cell_type": "markdown",
   "id": "d3781678-4921-4c5f-bb23-2c434d662e12",
   "metadata": {},
   "source": [
    "Weight had the highest correlation (negative, in this case) as shown in the previous correlation matrix. This is clearly shown in the scatterplot above, as well. As weight increases, mpg decreases fairly consistently. "
   ]
  },
  {
   "cell_type": "markdown",
   "id": "c8578452-1983-4b50-b5fb-e1b53c43c5b4",
   "metadata": {},
   "source": [
    "### 5. Randomly split the data into 80% training data and 20% test data, where your target is mpg."
   ]
  },
  {
   "cell_type": "code",
   "execution_count": 34,
   "id": "779dcdce-6efc-4d38-bdb9-680831e5395a",
   "metadata": {},
   "outputs": [],
   "source": [
    "from sklearn.linear_model import LinearRegression\n",
    "from sklearn.model_selection import train_test_split\n",
    "from sklearn.metrics import mean_squared_error, r2_score, mean_absolute_error\n",
    "\n",
    "X = df[['weight']]\n",
    "y = df['mpg']\n",
    "\n",
    "X_train, X_test, y_train, y_test = train_test_split(X, y, test_size=0.2, random_state=42)"
   ]
  },
  {
   "cell_type": "markdown",
   "id": "892394bb-91b2-4a05-a21c-dd11f7af349e",
   "metadata": {},
   "source": [
    "### 6. Train an ordinary linear regression on the training data."
   ]
  },
  {
   "cell_type": "code",
   "execution_count": 36,
   "id": "1aa56236-8efa-4b36-a7eb-714faa0c4c0c",
   "metadata": {},
   "outputs": [],
   "source": [
    "model = LinearRegression()\n",
    "model.fit(X_train, y_train)\n",
    "y_pred = model.predict(X_test)"
   ]
  },
  {
   "cell_type": "markdown",
   "id": "351c638b-3c20-4935-a6d6-764c1f16de14",
   "metadata": {},
   "source": [
    "### 7. Calculate R2, RMSE, and MAE on both the training and test sets and interpret your results."
   ]
  },
  {
   "cell_type": "code",
   "execution_count": 38,
   "id": "e9112909-aaaf-45aa-9794-b256dfb4bd5d",
   "metadata": {},
   "outputs": [
    {
     "name": "stdout",
     "output_type": "stream",
     "text": [
      "Linear Regression Results:\n",
      "Mean Squared Error: 14.89\n",
      "R-squared: 0.72\n",
      "Mean Absolute Error: 3.12\n"
     ]
    }
   ],
   "source": [
    "mse = mean_squared_error(y_test, y_pred) \n",
    "r2 = r2_score(y_test, y_pred)\n",
    "mae = mean_absolute_error(y_test, y_pred)\n",
    "\n",
    "print(\"Linear Regression Results:\")\n",
    "print(f'Mean Squared Error: {mse:.2f}')\n",
    "print(f'R-squared: {r2:.2f}')\n",
    "print(f'Mean Absolute Error: {mae:.2f}')"
   ]
  },
  {
   "cell_type": "markdown",
   "id": "bbfda896-6253-449a-916e-c93082cf2608",
   "metadata": {},
   "source": [
    "Considering that the MSE value is a squared error value, it's difficult to interpret it's importance in terms of model performance. However, R2 and MAE show that the model is fairly effective. An R2 value of 0.72 suggests that 72% of the variability in mpg can be explained by the car's weight. There's still room for more optimization, but 72% is quite high for R2, generally speaking. Additionally, the MAE value of 3.12 shows that the model's predicted value of mpg is, on average, 3.12 off from the actual value of mpg. This is fairly low and reinforces the effectiveness of the model.  "
   ]
  },
  {
   "cell_type": "markdown",
   "id": "35888649-4354-4390-aff3-f8ac12e550d6",
   "metadata": {},
   "source": [
    "### 8. Pick another regression model and repeat the previous two steps. Note: Do NOT choose logistic regression as it is more like a classification model."
   ]
  },
  {
   "cell_type": "code",
   "execution_count": 66,
   "id": "8545a9e9-d86e-40b1-9543-9d82313fe0d4",
   "metadata": {},
   "outputs": [
    {
     "name": "stdout",
     "output_type": "stream",
     "text": [
      "Polynomial Regression Results:\n",
      "Degree of Polynomial: 2\n",
      "Mean Squared Error: 13.15\n",
      "Mean Absolute Error: 2.80\n",
      "R-squared: 0.76\n"
     ]
    }
   ],
   "source": [
    "from sklearn.preprocessing import PolynomialFeatures\n",
    "\n",
    "# transform the weight feature using polynomialfeatures\n",
    "poly = PolynomialFeatures(degree=2) # experimented with multiple degrees - 2 was most effective. \n",
    "X_poly = poly.fit_transform(X)\n",
    "\n",
    "# split the transformed data into new training and testing sets\n",
    "X_train, X_test, y_train, y_test = train_test_split(X_poly, y, test_size=0.2, random_state=42)\n",
    "\n",
    "# fit model\n",
    "model = LinearRegression()\n",
    "model.fit(X_train, y_train)\n",
    "\n",
    "# make predictions\n",
    "y_pred = model.predict(X_test)\n",
    "\n",
    "# evaluate model\n",
    "mse = mean_squared_error(y_test, y_pred)\n",
    "mae = mean_absolute_error(y_test, y_pred)\n",
    "r2 = r2_score(y_test, y_pred)\n",
    "\n",
    "print(\"Polynomial Regression Results:\")\n",
    "print(f\"Degree of Polynomial: {poly.degree}\")\n",
    "print(f\"Mean Squared Error: {mse:.2f}\")\n",
    "print(f\"Mean Absolute Error: {mae:.2f}\")\n",
    "print(f\"R-squared: {r2:.2f}\")"
   ]
  },
  {
   "cell_type": "markdown",
   "id": "f5d2f25a-2611-4d70-bf4a-52dfa4913515",
   "metadata": {},
   "source": [
    "For this step, I chose to use a polynomial regression. Suprisingly, the R2 value actually increased, implying that there is a small (if any) exponential relationship between the two variables. I would argue that there is likely a logarithmic relationship. Mpg decreases as weight increases, but higher values of weight have an increasingly small impact on mpg as weight increases (cars can not have a negative mpg value, so the log curve would approach 0 - maybe - but never actually reach it). "
   ]
  },
  {
   "cell_type": "code",
   "execution_count": null,
   "id": "7ca096a3-9a2b-467c-8728-c18c417aea5f",
   "metadata": {},
   "outputs": [],
   "source": []
  }
 ],
 "metadata": {
  "kernelspec": {
   "display_name": "Python 3 (ipykernel)",
   "language": "python",
   "name": "python3"
  },
  "language_info": {
   "codemirror_mode": {
    "name": "ipython",
    "version": 3
   },
   "file_extension": ".py",
   "mimetype": "text/x-python",
   "name": "python",
   "nbconvert_exporter": "python",
   "pygments_lexer": "ipython3",
   "version": "3.11.7"
  }
 },
 "nbformat": 4,
 "nbformat_minor": 5
}
